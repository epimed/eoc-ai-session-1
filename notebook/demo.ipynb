{
 "cells": [
  {
   "cell_type": "markdown",
   "metadata": {},
   "source": [
    "# Démo : Entrainer un modèle de classification en machine learning"
   ]
  },
  {
   "cell_type": "markdown",
   "metadata": {},
   "source": [
    "## 1. Importer les données"
   ]
  },
  {
   "cell_type": "markdown",
   "metadata": {},
   "source": [
    "Nous utilisons la librairie **pandas** de Python pour présenter les données en format **DataFrame**."
   ]
  },
  {
   "cell_type": "code",
   "execution_count": null,
   "metadata": {},
   "outputs": [],
   "source": [
    "import pandas as pd"
   ]
  },
  {
   "cell_type": "markdown",
   "metadata": {},
   "source": [
    "Les données sont disponibles dans le fichier `colon_cancer.csv`. L'import de données se fait avec la commande `read_csv` de pandas. L'attribut `shape` contient les dimensions de la matrice de données (dataframe)."
   ]
  },
  {
   "cell_type": "code",
   "execution_count": null,
   "metadata": {},
   "outputs": [],
   "source": [
    "data = pd.read_csv('../data/colon_cancer.csv', sep=';', index_col='id_sample')\n",
    "print('data', data.shape)"
   ]
  },
  {
   "cell_type": "markdown",
   "metadata": {},
   "source": [
    "La méthode `head()` permet d'afficher 5 premières lignes du dataframe. Si nécessaire, on peut présiser le nombre de lignes à afficher, par exemple `head(3)` pour 3 lignes.  "
   ]
  },
  {
   "cell_type": "code",
   "execution_count": null,
   "metadata": {},
   "outputs": [],
   "source": [
    "data.head()"
   ]
  },
  {
   "cell_type": "markdown",
   "metadata": {},
   "source": [
    "Les types de données de chaque colonne peuvent être affichés avec `dtypes`. "
   ]
  },
  {
   "cell_type": "code",
   "execution_count": null,
   "metadata": {},
   "outputs": [],
   "source": [
    "data.dtypes"
   ]
  },
  {
   "cell_type": "markdown",
   "metadata": {},
   "source": [
    "La méthode `describe` affiche des statistiques descriptives des données numériques. La colonne `tissue_status` ne sera pas inscluse."
   ]
  },
  {
   "cell_type": "code",
   "execution_count": null,
   "metadata": {},
   "outputs": [],
   "source": [
    "data.describe()"
   ]
  },
  {
   "cell_type": "markdown",
   "metadata": {},
   "source": [
    "## 2. Afficher la distribution des valeurs d'expression"
   ]
  },
  {
   "cell_type": "markdown",
   "metadata": {},
   "source": [
    "Les librairies **matplotlib** et **seaborn** servent à créer des graphiques."
   ]
  },
  {
   "cell_type": "code",
   "execution_count": null,
   "metadata": {},
   "outputs": [],
   "source": [
    "%matplotlib inline\n",
    "import seaborn as sns\n",
    "import matplotlib.pyplot as plt"
   ]
  },
  {
   "cell_type": "markdown",
   "metadata": {},
   "source": [
    "La commande `displot` permet d'afficher une distribution (par exemple, kernel density estimator *kde* ou histogramme *hist*)."
   ]
  },
  {
   "cell_type": "code",
   "execution_count": null,
   "metadata": {},
   "outputs": [],
   "source": [
    "selected_gene = 'DAO'\n",
    "selected_features = [selected_gene, 'tissue_status']\n",
    "sns.displot(data=data[selected_features], x=selected_gene, hue='tissue_status', kind='kde')"
   ]
  },
  {
   "cell_type": "markdown",
   "metadata": {},
   "source": [
    "## 3. Créer la matrice de données (avec les features) et le vecteur des cibles (targets)"
   ]
  },
  {
   "cell_type": "markdown",
   "metadata": {},
   "source": [
    "La matrice de données utilisée en apprentissage est nommé par convention **X** en majuscule. Dans cet exemple, **X** contient les données d'un seul gène."
   ]
  },
  {
   "cell_type": "code",
   "execution_count": null,
   "metadata": {},
   "outputs": [],
   "source": [
    "selected_features = [selected_gene]\n",
    "X = data[selected_features]\n",
    "X.head(3)"
   ]
  },
  {
   "cell_type": "markdown",
   "metadata": {},
   "source": [
    "Les cibles (targets) sont représentées par un vecteur (*list*, *numpy.array* ou *pandas.Series*), nommé par convention **y** en minuscule."
   ]
  },
  {
   "cell_type": "code",
   "execution_count": null,
   "metadata": {},
   "outputs": [],
   "source": [
    "y = data['tissue_status']\n",
    "print(y)"
   ]
  },
  {
   "cell_type": "markdown",
   "metadata": {},
   "source": [
    "## 4. Créer un dataset d'entrainement et un dataset de test"
   ]
  },
  {
   "cell_type": "markdown",
   "metadata": {},
   "source": [
    "Dans une approche de machine learning, il est obligatoire de partager le dataset initial **X** en deux datatsets : un dataset qui servira à entrainer le modèle **X_train** et un autre pour tester le modèle obtenu **X_test**. Les échantillons sont tirés au hasard."
   ]
  },
  {
   "cell_type": "markdown",
   "metadata": {},
   "source": [
    "<img src=\"train_test_split.png\" alt=\"Splitting original dataset in training and test\" width=\"400\" aling=\"center\">"
   ]
  },
  {
   "cell_type": "markdown",
   "metadata": {},
   "source": [
    "La librairie de **scikit-learn** contient un outil `train_test_split` pour créer facilement ces datasets.  "
   ]
  },
  {
   "cell_type": "code",
   "execution_count": null,
   "metadata": {},
   "outputs": [],
   "source": [
    "from sklearn.model_selection import train_test_split\n",
    "\n",
    "X_train, X_test, y_train, y_test = train_test_split(X, y, test_size=1/3, random_state=42, stratify=y)\n",
    "print('Train dataset:', X_train.shape, 'Test dataset:', X_test.shape)\n",
    "X_train.head(3)"
   ]
  },
  {
   "cell_type": "markdown",
   "metadata": {},
   "source": [
    "## 5. Entrainer un arbre de décisison (Decision Tree) "
   ]
  },
  {
   "cell_type": "markdown",
   "metadata": {},
   "source": [
    "Un arbre de décision cherche un seuil optimal qui permet de séparer les échantillons normaux et tumoraux. L'option *max_depth* indique la profondeur maximale de l'arbre. La méthode `fit` effectue l'entrainement du modèle. Bien entendu, l'entrainement du modèle se fait uniquement sur le dataset d'entrainement **X_train**."
   ]
  },
  {
   "cell_type": "code",
   "execution_count": null,
   "metadata": {},
   "outputs": [],
   "source": [
    "from sklearn.tree import DecisionTreeClassifier\n",
    "classifier = DecisionTreeClassifier(max_depth=1, random_state=42, criterion='entropy')\n",
    "classifier.fit(X_train, y_train)"
   ]
  },
  {
   "cell_type": "markdown",
   "metadata": {},
   "source": [
    "Il est possible d'afficher le seuil de décision obtenu par l'entrainement avec la fonction `export_text`."
   ]
  },
  {
   "cell_type": "code",
   "execution_count": null,
   "metadata": {},
   "outputs": [],
   "source": [
    "from sklearn.tree import export_text, plot_tree\n",
    "decision_tree_text = export_text(classifier, feature_names=list(X_train.columns))\n",
    "print(decision_tree_text)"
   ]
  },
  {
   "cell_type": "markdown",
   "metadata": {},
   "source": [
    "On peut également visualiser l'arbre de décision quand il n'est pas trop complexe. La fonction `plot_tree` génère le graphique."
   ]
  },
  {
   "cell_type": "code",
   "execution_count": null,
   "metadata": {},
   "outputs": [],
   "source": [
    "plot_tree(classifier, feature_names=list(X_train.columns),  class_names=y.unique(), precision=2, filled=True)"
   ]
  },
  {
   "cell_type": "markdown",
   "metadata": {},
   "source": [
    "## 6. Prédire le diagnostic des nouveaux patients (dataset de test)"
   ]
  },
  {
   "cell_type": "markdown",
   "metadata": {},
   "source": [
    "Une fois le modèle entrainé, il peut être utilisé sur de nouveaux échantillons pour prédire leur status (normal ou tumoral). La performance du modèle est habituellement estimée par une métrique. Dans notre exemple, on utilise la métrique *accuracy* (justesse)."
   ]
  },
  {
   "cell_type": "markdown",
   "metadata": {},
   "source": [
    "**Accuracy** = Nombre de prédictions correctes / Nombre total de prédictions"
   ]
  },
  {
   "cell_type": "markdown",
   "metadata": {},
   "source": [
    "La prédiction se fait avec la méthode `predict`. Les modèles d'apprentissage supervisés dans **scikit-learn** possèdent les méthodes standards `fit` et `predict`."
   ]
  },
  {
   "cell_type": "code",
   "execution_count": null,
   "metadata": {},
   "outputs": [],
   "source": [
    "from sklearn import metrics\n",
    "y_pred_train = classifier.predict(X_train)\n",
    "y_pred_test = classifier.predict(X_test)\n",
    "accuracy_train = metrics.accuracy_score(y_train, y_pred_train)\n",
    "accuracy_test = metrics.accuracy_score(y_test, y_pred_test)\n",
    "print('Train accuracy:', '{:.2f}'.format(accuracy_train), 'Test accuracy:', '{:.2f}'.format(accuracy_test))"
   ]
  },
  {
   "cell_type": "markdown",
   "metadata": {},
   "source": [
    "Pour évaluer un modèle on prend surtout en compte la métrique calculée sur **le dataset de test**. Parfois on peut la comparer avec la métrique obtenue sur le dataset d'entrainement pour savoir si le modèle a tendance à surapprendre.  "
   ]
  },
  {
   "cell_type": "markdown",
   "metadata": {},
   "source": [
    "## 7. Créer une fonction pour automatiser le calcul de la métrique "
   ]
  },
  {
   "cell_type": "markdown",
   "metadata": {},
   "source": [
    "Par la suite, nous allons souvent réaliser les étapes d'entrainement, de  prédiction et de calcul de la métrique pour différents modèles de machine learning. Il serait plus pratique de créer une fonction `calculate_accuracy`."
   ]
  },
  {
   "cell_type": "code",
   "execution_count": null,
   "metadata": {},
   "outputs": [],
   "source": [
    "def calculate_accuracy(classifier, X_train, X_test, y_train, y_test):\n",
    "    classifier.fit(X_train, y_train)\n",
    "    y_pred_train = classifier.predict(X_train)\n",
    "    y_pred_test = classifier.predict(X_test)\n",
    "    accuracy_train = metrics.accuracy_score(y_train, y_pred_train)\n",
    "    accuracy_test = metrics.accuracy_score(y_test, y_pred_test)\n",
    "    print('Train accuracy:', '{:.2f}'.format(accuracy_train), 'Test accuracy:', '{:.2f}'.format(accuracy_test))\n",
    "    return accuracy_train, accuracy_test, classifier"
   ]
  },
  {
   "cell_type": "code",
   "execution_count": null,
   "metadata": {},
   "outputs": [],
   "source": [
    "accuracy_train, accuracy_test, trained_classifier = calculate_accuracy(classifier, X_train, X_test, y_train, y_test)"
   ]
  }
 ],
 "metadata": {
  "kernelspec": {
   "display_name": "Python 3",
   "language": "python",
   "name": "python3"
  },
  "language_info": {
   "codemirror_mode": {
    "name": "ipython",
    "version": 3
   },
   "file_extension": ".py",
   "mimetype": "text/x-python",
   "name": "python",
   "nbconvert_exporter": "python",
   "pygments_lexer": "ipython3",
   "version": "3.8.7"
  }
 },
 "nbformat": 4,
 "nbformat_minor": 4
}
